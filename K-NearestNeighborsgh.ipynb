{
 "cells": [
  {
   "cell_type": "code",
   "execution_count": 32,
   "id": "903f93e9",
   "metadata": {},
   "outputs": [],
   "source": [
    "#import libraries to use for my analysis and visualizations. Then read the file.\n",
    "import numpy as np\n",
    "import pandas as pd\n",
    "import sklearn\n",
    " \n",
    "import matplotlib.pyplot as plt\n",
    "from sklearn.model_selection import train_test_split\n",
    "from sklearn.preprocessing import StandardScaler\n",
    "from sklearn.neighbors import KNeighborsClassifier\n",
    "from sklearn.metrics import classification_report, confusion_matrix\n",
    "from sklearn.metrics import f1_score\n",
    "from sklearn.metrics import accuracy_score\n",
    "from sklearn.metrics import roc_auc_score\n",
    "\n",
    "%matplotlib inline\n",
    "df=pd.read_csv('Churn_Clean209.csv')"
   ]
  },
  {
   "cell_type": "code",
   "execution_count": 33,
   "id": "f183a521",
   "metadata": {},
   "outputs": [],
   "source": [
    "#Remove columns that are not relevent to the question being addressed in this analysis or are redundant\n",
    "df=df.drop(columns=['CaseOrder','Customer_id','Interaction','UID', 'Lat','Lng','Population','TimeZone','State','Zip','City','County','Job','Children','Techie'])"
   ]
  },
  {
   "cell_type": "code",
   "execution_count": 34,
   "id": "5d5261f8",
   "metadata": {},
   "outputs": [],
   "source": [
    "#Source (pandas.factorize¶)\n",
    "#change categorical variables to numerical so that we can use them in them in the model\n",
    "df.Area= pd.factorize(df.Area)[0]\n",
    "df.Marital= pd.factorize(df.Marital)[0]\n",
    "df.Gender= pd.factorize(df.Gender)[0]\n",
    "df.Churn= pd.factorize(df.Churn)[0]\n",
    "df.Contract= pd.factorize(df.Contract)[0]\n",
    "df.Port_modem= pd.factorize(df.Port_modem)[0]\n",
    "df.Tablet= pd.factorize(df.Tablet)[0]\n",
    "df.InternetService= pd.factorize(df.InternetService)[0]\n",
    "df.Phone= pd.factorize(df.Phone)[0]\n",
    "df.Multiple= pd.factorize(df.Multiple)[0]\n",
    "df.OnlineSecurity= pd.factorize(df.OnlineSecurity)[0]\n",
    "df.OnlineBackup= pd.factorize(df.OnlineBackup)[0]\n",
    "df.DeviceProtection= pd.factorize(df.DeviceProtection)[0]\n",
    "df.TechSupport= pd.factorize(df.TechSupport)[0]\n",
    "df.StreamingTV= pd.factorize(df.StreamingTV)[0]\n",
    "df.StreamingMovies= pd.factorize(df.StreamingMovies)[0]\n",
    "df.PaperlessBilling= pd.factorize(df.PaperlessBilling)[0]\n",
    "df.PaymentMethod= pd.factorize(df.PaymentMethod)[0]"
   ]
  },
  {
   "cell_type": "code",
   "execution_count": 35,
   "id": "1489ff3e",
   "metadata": {},
   "outputs": [],
   "source": [
    "#Source (Train/Test Split + Fit/Predict/Accuracy)\n",
    "# Create arrays for the features and the response variable\n",
    "y = df['Churn'].values\n",
    "X = df.drop('Churn', axis=1).values\n",
    "\n",
    "# Split into training and test set\n",
    "X_train, X_test, y_train, y_test = train_test_split(X, y, test_size = 0.2, random_state=1)"
   ]
  },
  {
   "cell_type": "code",
   "execution_count": 36,
   "id": "6433fb3d",
   "metadata": {},
   "outputs": [
    {
     "name": "stdout",
     "output_type": "stream",
     "text": [
      "(8000, 34) (2000, 34) (8000,) (2000,)\n"
     ]
    }
   ],
   "source": [
    "print(X_train.shape, X_test.shape, y_train.shape, y_test.shape)"
   ]
  },
  {
   "cell_type": "code",
   "execution_count": 37,
   "id": "673d45de",
   "metadata": {},
   "outputs": [],
   "source": [
    "df2 = pd.DataFrame(y_train)\n",
    "df2.to_csv('y_train.csv',index=False)\n",
    "df3 = pd.DataFrame(X_train)\n",
    "df3.to_csv('x_train.csv',index=False)\n",
    "df4 = pd.DataFrame(y_test)\n",
    "df4.to_csv('y_test.csv',index=False)\n",
    "df5 = pd.DataFrame(X_test)\n",
    "df5.to_csv('x_test.csv',index=False)\n"
   ]
  },
  {
   "cell_type": "code",
   "execution_count": 38,
   "id": "3ae29101",
   "metadata": {},
   "outputs": [],
   "source": [
    "# Source (Robinson, K-Nearest Neighbors Algorithm in Python and Scikit-Learn)\n",
    "#scale data since it needs to have the same min, max values in order to complete the KNN\n",
    "scaler = StandardScaler()\n",
    "scaler.fit(X_train)\n",
    "\n",
    "X_train = scaler.transform(X_train)\n",
    "X_test = scaler.transform(X_test)"
   ]
  },
  {
   "cell_type": "code",
   "execution_count": 39,
   "id": "9fe347f3",
   "metadata": {},
   "outputs": [
    {
     "data": {
      "text/plain": [
       "44.721359549995796"
      ]
     },
     "execution_count": 39,
     "metadata": {},
     "output_type": "execute_result"
    }
   ],
   "source": [
    "#calculate the square root of the number of tuples in order to estimate k\n",
    "import math\n",
    "math.sqrt(len(y_test))"
   ]
  },
  {
   "cell_type": "code",
   "execution_count": 40,
   "id": "ae814ed0",
   "metadata": {},
   "outputs": [],
   "source": [
    "#Source (Train/Test Split + Fit/Predict/Accuracy)\n",
    "# Create a k-NN classifier with 43 neighbors\n",
    "knn = KNeighborsClassifier(n_neighbors=43)\n",
    "\n",
    "# Fit the classifier to the training data\n",
    "knn.fit(X_train, y_train)  \n",
    "\n",
    "# Predict the labels for the training data X: y_pred\n",
    "y_pred = knn.predict(X_test)"
   ]
  },
  {
   "cell_type": "code",
   "execution_count": 41,
   "id": "eafb5c64",
   "metadata": {},
   "outputs": [
    {
     "name": "stdout",
     "output_type": "stream",
     "text": [
      "[[1358   84]\n",
      " [ 245  313]]\n",
      "0.6554973821989529\n"
     ]
    }
   ],
   "source": [
    "#Source (Train/Test Split + Fit/Predict/Accuracy)\n",
    "#calculate metrics to evaluate algorithm by creating a confusion matrix\n",
    "print(confusion_matrix(y_test, y_pred))\n",
    "#evaluate the KNN model by viewing the confusion matrix and F1 score\n",
    "cm=confusion_matrix(y_test,y_pred)\n",
    "print(f1_score(y_test,y_pred))"
   ]
  },
  {
   "cell_type": "code",
   "execution_count": 42,
   "id": "d624395b",
   "metadata": {
    "scrolled": true
   },
   "outputs": [
    {
     "name": "stdout",
     "output_type": "stream",
     "text": [
      "              precision    recall  f1-score   support\n",
      "\n",
      "           0       0.85      0.94      0.89      1442\n",
      "           1       0.79      0.56      0.66       558\n",
      "\n",
      "    accuracy                           0.84      2000\n",
      "   macro avg       0.82      0.75      0.77      2000\n",
      "weighted avg       0.83      0.84      0.83      2000\n",
      "\n"
     ]
    }
   ],
   "source": [
    "#Source (Train/Test Split + Fit/Predict/Accuracy)\n",
    "#create a classification report which shows the metrics that can be used to show how well the knn performed.\n",
    "print(classification_report(y_test, y_pred)) "
   ]
  },
  {
   "cell_type": "code",
   "execution_count": 43,
   "id": "b9fab5ee",
   "metadata": {},
   "outputs": [
    {
     "data": {
      "image/png": "[encoded data removed]",
      "text/plain": [
       "<Figure size 432x288 with 1 Axes>"
      ]
     },
     "metadata": {
      "needs_background": "light"
     },
     "output_type": "display_data"
    }
   ],
   "source": [
    "# Source (Robinson, K-Nearest Neighbors Algorithm in Python and Scikit-Learn)\n",
    "# Calculating mean error for K values between 1 and 60 to use to determine best k\n",
    "error = []\n",
    "\n",
    "for i in range(1, 60):\n",
    "    knn = KNeighborsClassifier(n_neighbors=i)\n",
    "    knn.fit(X_train, y_train)\n",
    "    pred_i = knn.predict(X_test)\n",
    "    error.append(np.mean(pred_i != y_test))\n",
    "    \n",
    "#View a graph of error rate to determine best K value\n",
    "plt.plot( error)\n",
    "plt.title('Error Rate vs. K Value')\n",
    "plt.xlabel('K')\n",
    "plt.ylabel('Error Rate')\n",
    "plt.show()"
   ]
  },
  {
   "cell_type": "code",
   "execution_count": 44,
   "id": "4138467e",
   "metadata": {},
   "outputs": [],
   "source": [
    "#Source (Train/Test Split + Fit/Predict/Accuracy)\n",
    "# Create a k-NN classifier with 48 neighbors to see if that would improve my model (f1 value)\n",
    "knn = KNeighborsClassifier(n_neighbors=48)\n",
    "\n",
    "# Fit the classifier to the training data\n",
    "knn.fit(X_train, y_train)  \n",
    "\n",
    "# Predict the labels for the training data X: y_pred\n",
    "y_pred = knn.predict(X_test) "
   ]
  },
  {
   "cell_type": "code",
   "execution_count": 45,
   "id": "16a7cddb",
   "metadata": {},
   "outputs": [
    {
     "name": "stdout",
     "output_type": "stream",
     "text": [
      "[[1377   65]\n",
      " [ 251  307]]\n",
      "0.6602150537634408\n"
     ]
    }
   ],
   "source": [
    "#Source (Train/Test Split + Fit/Predict/Accuracy)\n",
    "#calculate metrics to evaluate algorithm\n",
    "print(confusion_matrix(y_test, y_pred))\n",
    "#evaluate the KNN model\n",
    "cm=confusion_matrix(y_test,y_pred)\n",
    " \n",
    "print(f1_score(y_test,y_pred))"
   ]
  },
  {
   "cell_type": "code",
   "execution_count": 46,
   "id": "2623b512",
   "metadata": {
    "scrolled": false
   },
   "outputs": [
    {
     "name": "stdout",
     "output_type": "stream",
     "text": [
      "              precision    recall  f1-score   support\n",
      "\n",
      "           0       0.85      0.95      0.90      1442\n",
      "           1       0.83      0.55      0.66       558\n",
      "\n",
      "    accuracy                           0.84      2000\n",
      "   macro avg       0.84      0.75      0.78      2000\n",
      "weighted avg       0.84      0.84      0.83      2000\n",
      "\n"
     ]
    }
   ],
   "source": [
    "#Source (Train/Test Split + Fit/Predict/Accuracy)\n",
    "print(classification_report(y_test, y_pred))"
   ]
  },
  {
   "cell_type": "code",
   "execution_count": 48,
   "id": "0f898e22",
   "metadata": {},
   "outputs": [
    {
     "name": "stdout",
     "output_type": "stream",
     "text": [
      "AUC-ROC: 0.7525514642645867\n"
     ]
    }
   ],
   "source": [
    "#Area under the curve shows how well the model distinguished the classes.\n",
    "print('AUC-ROC:',roc_auc_score(y_test, y_pred))"
   ]
  },
  {
   "cell_type": "code",
   "execution_count": null,
   "id": "3d2e0c59",
   "metadata": {},
   "outputs": [],
   "source": []
  }
 ],
 "metadata": {
  "kernelspec": {
   "display_name": "Python 3",
   "language": "python",
   "name": "python3"
  },
  "language_info": {
   "codemirror_mode": {
    "name": "ipython",
    "version": 3
   },
   "file_extension": ".py",
   "mimetype": "text/x-python",
   "name": "python",
   "nbconvert_exporter": "python",
   "pygments_lexer": "ipython3",
   "version": "3.8.8"
  }
 },
 "nbformat": 4,
 "nbformat_minor": 5
}
