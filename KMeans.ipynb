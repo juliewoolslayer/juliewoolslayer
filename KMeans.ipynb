{
 "cells": [
  {
   "cell_type": "code",
   "execution_count": 35,
   "id": "903f93e9",
   "metadata": {},
   "outputs": [],
   "source": [
    "#import libraries to use for my analysis and visualizations. Then read the dataset.\n",
    "import numpy as np\n",
    "import pandas as pd\n",
    "import matplotlib.pyplot as plt\n",
    "from sklearn.model_selection import train_test_split\n",
    "from sklearn.cluster import KMeans\n",
    "from sklearn.metrics import accuracy_score\n",
    "%matplotlib inline\n",
    "df=pd.read_csv('Churn_clean_d212.csv') "
   ]
  },
  {
   "cell_type": "code",
   "execution_count": 36,
   "id": "f6b633bd",
   "metadata": {},
   "outputs": [],
   "source": [
    "#seperate columns Techie and Item 8 from the dataset to use for KMEANS\n",
    "kmdf=df[['Techie','Item8']]"
   ]
  },
  {
   "cell_type": "code",
   "execution_count": 37,
   "id": "77409a3d",
   "metadata": {},
   "outputs": [
    {
     "data": {
      "text/html": [
       "<div>\n",
       "<style scoped>\n",
       "    .dataframe tbody tr th:only-of-type {\n",
       "        vertical-align: middle;\n",
       "    }\n",
       "\n",
       "    .dataframe tbody tr th {\n",
       "        vertical-align: top;\n",
       "    }\n",
       "\n",
       "    .dataframe thead th {\n",
       "        text-align: right;\n",
       "    }\n",
       "</style>\n",
       "<table border=\"1\" class=\"dataframe\">\n",
       "  <thead>\n",
       "    <tr style=\"text-align: right;\">\n",
       "      <th></th>\n",
       "      <th>Techie</th>\n",
       "      <th>Item8</th>\n",
       "    </tr>\n",
       "  </thead>\n",
       "  <tbody>\n",
       "    <tr>\n",
       "      <th>0</th>\n",
       "      <td>0</td>\n",
       "      <td>4</td>\n",
       "    </tr>\n",
       "    <tr>\n",
       "      <th>1</th>\n",
       "      <td>1</td>\n",
       "      <td>4</td>\n",
       "    </tr>\n",
       "    <tr>\n",
       "      <th>2</th>\n",
       "      <td>1</td>\n",
       "      <td>3</td>\n",
       "    </tr>\n",
       "    <tr>\n",
       "      <th>3</th>\n",
       "      <td>1</td>\n",
       "      <td>3</td>\n",
       "    </tr>\n",
       "    <tr>\n",
       "      <th>4</th>\n",
       "      <td>0</td>\n",
       "      <td>5</td>\n",
       "    </tr>\n",
       "  </tbody>\n",
       "</table>\n",
       "</div>"
      ],
      "text/plain": [
       "   Techie  Item8\n",
       "0       0      4\n",
       "1       1      4\n",
       "2       1      3\n",
       "3       1      3\n",
       "4       0      5"
      ]
     },
     "execution_count": 37,
     "metadata": {},
     "output_type": "execute_result"
    }
   ],
   "source": [
    "#Change Techie from categorical Yes/No to Integer 1/2\n",
    "kmdf = kmdf.replace(to_replace = 'Yes', value = 1)\n",
    "kmdf = kmdf.replace(to_replace = 'No', value = 0) \n",
    "kmdf.head()"
   ]
  },
  {
   "cell_type": "code",
   "execution_count": 38,
   "id": "67e24f74",
   "metadata": {},
   "outputs": [],
   "source": [
    "kmdf.to_csv('D212Task1Final.csv')"
   ]
  },
  {
   "cell_type": "code",
   "execution_count": 39,
   "id": "68133b08",
   "metadata": {},
   "outputs": [
    {
     "data": {
      "image/png": "[encoded data removed]",
      "text/plain": [
       "<Figure size 432x288 with 1 Axes>"
      ]
     },
     "metadata": {
      "needs_background": "light"
     },
     "output_type": "display_data"
    }
   ],
   "source": [
    "#Scatterplot\n",
    "#Source (Transforming features for better clusterings: Python)\n",
    "T=kmdf.iloc[:,0].values\n",
    "I=kmdf.iloc[:,1].values\n",
    "plt.scatter(T,I)\n",
    "plt.ylabel('Active Listening Item 8')\n",
    "plt.xlabel('Techie')\n",
    "plt.title('Evidence of Active Listening Item 8 vs. Techie')\n",
    "plt.show()"
   ]
  },
  {
   "cell_type": "code",
   "execution_count": 40,
   "id": "b594890d",
   "metadata": {},
   "outputs": [
    {
     "data": {
      "text/plain": [
       "array([[0, 4],\n",
       "       [1, 4],\n",
       "       [1, 3],\n",
       "       ...,\n",
       "       [0, 5],\n",
       "       [0, 4],\n",
       "       [0, 1]], dtype=int64)"
      ]
     },
     "execution_count": 40,
     "metadata": {},
     "output_type": "execute_result"
    }
   ],
   "source": [
    "#View values\n",
    "X=kmdf.iloc[:,[0,1]].values\n",
    "X"
   ]
  },
  {
   "cell_type": "code",
   "execution_count": 41,
   "id": "a71e913c",
   "metadata": {},
   "outputs": [
    {
     "name": "stdout",
     "output_type": "stream",
     "text": [
      "(8000, 2) (2000, 2)\n"
     ]
    }
   ],
   "source": [
    "# Split into training and test set\n",
    "X_train,X_test = train_test_split(X, test_size = 0.2, random_state=1)\n",
    "print(X_train.shape, X_test.shape)"
   ]
  },
  {
   "cell_type": "code",
   "execution_count": 42,
   "id": "d82c7eaa",
   "metadata": {},
   "outputs": [
    {
     "name": "stdout",
     "output_type": "stream",
     "text": [
      "[0 1 0 ... 1 1 1]\n"
     ]
    }
   ],
   "source": [
    "#Source (Transforming features for better clusterings: Python)\n",
    "# Create a KMeans, fit model, determine and print labels\n",
    "model = KMeans(n_clusters=2)\n",
    "model.fit(X_train)\n",
    "labels = model.predict(X_train)\n",
    "print(labels)"
   ]
  },
  {
   "cell_type": "code",
   "execution_count": 43,
   "id": "22e64c46",
   "metadata": {},
   "outputs": [],
   "source": [
    "#combine label column to dataframe\n",
    "df=np.concatenate((X_train, labels[:,None]),axis=1) "
   ]
  },
  {
   "cell_type": "code",
   "execution_count": 44,
   "id": "582ab3e4",
   "metadata": {},
   "outputs": [
    {
     "name": "stdout",
     "output_type": "stream",
     "text": [
      "3690.0509854932934\n"
     ]
    }
   ],
   "source": [
    "#Determine Inertia. Lower values are better.\n",
    "print(model.inertia_)"
   ]
  },
  {
   "cell_type": "code",
   "execution_count": 45,
   "id": "1fc57d93",
   "metadata": {},
   "outputs": [
    {
     "data": {
      "text/plain": [
       "Text(0.5, 1.0, 'Active Listening Item 8 vs. Techie w/labels colored')"
      ]
     },
     "execution_count": 45,
     "metadata": {},
     "output_type": "execute_result"
    },
    {
     "data": {
      "image/png": "[encoded data removed]",
      "text/plain": [
       "<Figure size 432x288 with 1 Axes>"
      ]
     },
     "metadata": {
      "needs_background": "light"
     },
     "output_type": "display_data"
    }
   ],
   "source": [
    "#Create Scatterplot and color labels\n",
    "X=X_train[:,0]\n",
    "Y=X_train[:,1]\n",
    "plt.scatter(X,Y,c=labels)\n",
    "plt.ylabel('Active Listening Item 8')\n",
    "plt.xlabel('Techie')\n",
    "plt.title('Active Listening Item 8 vs. Techie w/labels colored')"
   ]
  },
  {
   "cell_type": "code",
   "execution_count": 46,
   "id": "26d81697",
   "metadata": {},
   "outputs": [
    {
     "name": "stdout",
     "output_type": "stream",
     "text": [
      "      Techie  Item 8  Labels\n",
      "0          0       4       0\n",
      "1          0       2       1\n",
      "2          0       5       0\n",
      "3          0       5       0\n",
      "4          0       4       0\n",
      "...      ...     ...     ...\n",
      "7995       0       3       1\n",
      "7996       0       5       0\n",
      "7997       0       1       1\n",
      "7998       0       3       1\n",
      "7999       1       1       1\n",
      "\n",
      "[8000 rows x 3 columns]\n"
     ]
    }
   ],
   "source": [
    "#Label columns=['Techie','Item 8','Labels'] and view values\n",
    "df1=pd.DataFrame({'Techie':X,'Item 8':Y,'Labels':labels})\n",
    "print (df1)"
   ]
  },
  {
   "cell_type": "code",
   "execution_count": 47,
   "id": "b6899f7e",
   "metadata": {
    "scrolled": true
   },
   "outputs": [
    {
     "data": {
      "text/html": [
       "<div>\n",
       "<style scoped>\n",
       "    .dataframe tbody tr th:only-of-type {\n",
       "        vertical-align: middle;\n",
       "    }\n",
       "\n",
       "    .dataframe tbody tr th {\n",
       "        vertical-align: top;\n",
       "    }\n",
       "\n",
       "    .dataframe thead th {\n",
       "        text-align: right;\n",
       "    }\n",
       "</style>\n",
       "<table border=\"1\" class=\"dataframe\">\n",
       "  <thead>\n",
       "    <tr style=\"text-align: right;\">\n",
       "      <th>Techie</th>\n",
       "      <th>0</th>\n",
       "      <th>1</th>\n",
       "    </tr>\n",
       "    <tr>\n",
       "      <th>Labels</th>\n",
       "      <th></th>\n",
       "      <th></th>\n",
       "    </tr>\n",
       "  </thead>\n",
       "  <tbody>\n",
       "    <tr>\n",
       "      <th>0</th>\n",
       "      <td>3294</td>\n",
       "      <td>650</td>\n",
       "    </tr>\n",
       "    <tr>\n",
       "      <th>1</th>\n",
       "      <td>3343</td>\n",
       "      <td>713</td>\n",
       "    </tr>\n",
       "  </tbody>\n",
       "</table>\n",
       "</div>"
      ],
      "text/plain": [
       "Techie     0    1\n",
       "Labels           \n",
       "0       3294  650\n",
       "1       3343  713"
      ]
     },
     "execution_count": 47,
     "metadata": {},
     "output_type": "execute_result"
    }
   ],
   "source": [
    "#Source (Transforming features for better clusterings: Python)\n",
    "#Evaluate model using crosstab\n",
    "ct=pd.crosstab(df1['Labels'],df1['Techie'])\n",
    "ct "
   ]
  },
  {
   "cell_type": "code",
   "execution_count": 48,
   "id": "b453bc26",
   "metadata": {},
   "outputs": [
    {
     "data": {
      "text/html": [
       "<div>\n",
       "<style scoped>\n",
       "    .dataframe tbody tr th:only-of-type {\n",
       "        vertical-align: middle;\n",
       "    }\n",
       "\n",
       "    .dataframe tbody tr th {\n",
       "        vertical-align: top;\n",
       "    }\n",
       "\n",
       "    .dataframe thead th {\n",
       "        text-align: right;\n",
       "    }\n",
       "</style>\n",
       "<table border=\"1\" class=\"dataframe\">\n",
       "  <thead>\n",
       "    <tr style=\"text-align: right;\">\n",
       "      <th>Item 8</th>\n",
       "      <th>1</th>\n",
       "      <th>2</th>\n",
       "      <th>3</th>\n",
       "      <th>4</th>\n",
       "      <th>5</th>\n",
       "      <th>6</th>\n",
       "      <th>7</th>\n",
       "    </tr>\n",
       "    <tr>\n",
       "      <th>Labels</th>\n",
       "      <th></th>\n",
       "      <th></th>\n",
       "      <th></th>\n",
       "      <th></th>\n",
       "      <th></th>\n",
       "      <th></th>\n",
       "      <th></th>\n",
       "    </tr>\n",
       "  </thead>\n",
       "  <tbody>\n",
       "    <tr>\n",
       "      <th>0</th>\n",
       "      <td>0</td>\n",
       "      <td>0</td>\n",
       "      <td>0</td>\n",
       "      <td>2709</td>\n",
       "      <td>1064</td>\n",
       "      <td>158</td>\n",
       "      <td>13</td>\n",
       "    </tr>\n",
       "    <tr>\n",
       "      <th>1</th>\n",
       "      <td>162</td>\n",
       "      <td>1131</td>\n",
       "      <td>2763</td>\n",
       "      <td>0</td>\n",
       "      <td>0</td>\n",
       "      <td>0</td>\n",
       "      <td>0</td>\n",
       "    </tr>\n",
       "  </tbody>\n",
       "</table>\n",
       "</div>"
      ],
      "text/plain": [
       "Item 8    1     2     3     4     5    6   7\n",
       "Labels                                      \n",
       "0         0     0     0  2709  1064  158  13\n",
       "1       162  1131  2763     0     0    0   0"
      ]
     },
     "execution_count": 48,
     "metadata": {},
     "output_type": "execute_result"
    }
   ],
   "source": [
    "#Source (Transforming features for better clusterings: Python)\n",
    "#Evaluate model using crosstab\n",
    "ci=pd.crosstab(df1['Labels'],df1['Item 8'])\n",
    "ci"
   ]
  },
  {
   "cell_type": "code",
   "execution_count": 49,
   "id": "b883d3c1",
   "metadata": {},
   "outputs": [
    {
     "data": {
      "image/png": "[encoded data removed]",
      "text/plain": [
       "<Figure size 432x288 with 1 Axes>"
      ]
     },
     "metadata": {
      "needs_background": "light"
     },
     "output_type": "display_data"
    }
   ],
   "source": [
    "#Source(Towards Data Science)\n",
    "#Plotting inertia using the elbow method to determine ideal number of clusters\n",
    "wcss = []\n",
    "for i in range(1, 11):\n",
    "    kmeans = KMeans(n_clusters=i, init='k-means++', max_iter=300, n_init=10, random_state=0)\n",
    "    kmeans.fit(X_train)\n",
    "    wcss.append(kmeans.inertia_)\n",
    "plt.plot(range(1, 11), wcss)\n",
    "plt.title('Elbow Method')\n",
    "plt.xlabel('Number of clusters')\n",
    "plt.ylabel('Inertia')\n",
    "plt.show()"
   ]
  },
  {
   "cell_type": "code",
   "execution_count": 50,
   "id": "79cba39a",
   "metadata": {},
   "outputs": [
    {
     "name": "stdout",
     "output_type": "stream",
     "text": [
      "[1 2 4 ... 2 0 2]\n"
     ]
    },
    {
     "data": {
      "image/png": "[encoded data removed]",
      "text/plain": [
       "<Figure size 432x288 with 1 Axes>"
      ]
     },
     "metadata": {
      "needs_background": "light"
     },
     "output_type": "display_data"
    }
   ],
   "source": [
    "#Source (Transforming features for better clusterings: Python)\n",
    "# Create a KMeans, fit model, determine and print labels\n",
    "model = KMeans(n_clusters=5)\n",
    "model.fit(X_train)\n",
    "labels = model.predict(X_train)\n",
    "wcss.append(model.inertia_)\n",
    "print(labels)\n",
    " \n",
    "#plt.scatter(X_train[:,0],X_train[:,1])\n",
    "plt.scatter(model.cluster_centers_[:, 0], model.cluster_centers_[:, 1], s=300, c='red')\n",
    "plt.show()"
   ]
  },
  {
   "cell_type": "code",
   "execution_count": 51,
   "id": "7ea5a2e5",
   "metadata": {},
   "outputs": [
    {
     "name": "stdout",
     "output_type": "stream",
     "text": [
      "1046.9260762405795\n"
     ]
    }
   ],
   "source": [
    "#Determine Inertia. Lower values are better.\n",
    "print(model.inertia_)"
   ]
  },
  {
   "cell_type": "code",
   "execution_count": 52,
   "id": "628546f9",
   "metadata": {
    "scrolled": true
   },
   "outputs": [
    {
     "data": {
      "text/plain": [
       "Text(0.5, 1.0, 'Active Listening Item 8 vs. Techie w/labels colored')"
      ]
     },
     "execution_count": 52,
     "metadata": {},
     "output_type": "execute_result"
    },
    {
     "data": {
      "image/png": "[encoded data removed]",
      "text/plain": [
       "<Figure size 432x288 with 1 Axes>"
      ]
     },
     "metadata": {
      "needs_background": "light"
     },
     "output_type": "display_data"
    }
   ],
   "source": [
    "#Creating a scatterplot and color labels \n",
    "X=X_train[:,0]\n",
    "Y=X_train[:,1]\n",
    "plt.scatter(X,Y,c=labels)\n",
    "plt.ylabel('Active Listening Item 8')\n",
    "plt.xlabel('Techie')\n",
    "plt.title('Active Listening Item 8 vs. Techie w/labels colored')"
   ]
  },
  {
   "cell_type": "code",
   "execution_count": 53,
   "id": "caef9094",
   "metadata": {},
   "outputs": [
    {
     "name": "stdout",
     "output_type": "stream",
     "text": [
      "      Techie  Item 8  Labels\n",
      "0          0       4       1\n",
      "1          0       2       2\n",
      "2          0       5       4\n",
      "3          0       5       4\n",
      "4          0       4       1\n",
      "...      ...     ...     ...\n",
      "7995       0       3       0\n",
      "7996       0       5       4\n",
      "7997       0       1       2\n",
      "7998       0       3       0\n",
      "7999       1       1       2\n",
      "\n",
      "[8000 rows x 3 columns]\n"
     ]
    }
   ],
   "source": [
    "#Add labels to columns=['Techie','Item 8','Labels'] \n",
    "df2=pd.DataFrame({'Techie':X,'Item 8':Y,'Labels':labels})\n",
    "print (df2)"
   ]
  },
  {
   "cell_type": "code",
   "execution_count": 54,
   "id": "2360850a",
   "metadata": {},
   "outputs": [
    {
     "data": {
      "text/html": [
       "<div>\n",
       "<style scoped>\n",
       "    .dataframe tbody tr th:only-of-type {\n",
       "        vertical-align: middle;\n",
       "    }\n",
       "\n",
       "    .dataframe tbody tr th {\n",
       "        vertical-align: top;\n",
       "    }\n",
       "\n",
       "    .dataframe thead th {\n",
       "        text-align: right;\n",
       "    }\n",
       "</style>\n",
       "<table border=\"1\" class=\"dataframe\">\n",
       "  <thead>\n",
       "    <tr style=\"text-align: right;\">\n",
       "      <th>Item 8</th>\n",
       "      <th>1</th>\n",
       "      <th>2</th>\n",
       "      <th>3</th>\n",
       "      <th>4</th>\n",
       "      <th>5</th>\n",
       "      <th>6</th>\n",
       "      <th>7</th>\n",
       "    </tr>\n",
       "    <tr>\n",
       "      <th>Labels</th>\n",
       "      <th></th>\n",
       "      <th></th>\n",
       "      <th></th>\n",
       "      <th></th>\n",
       "      <th></th>\n",
       "      <th></th>\n",
       "      <th></th>\n",
       "    </tr>\n",
       "  </thead>\n",
       "  <tbody>\n",
       "    <tr>\n",
       "      <th>0</th>\n",
       "      <td>0</td>\n",
       "      <td>0</td>\n",
       "      <td>2266</td>\n",
       "      <td>0</td>\n",
       "      <td>0</td>\n",
       "      <td>0</td>\n",
       "      <td>0</td>\n",
       "    </tr>\n",
       "    <tr>\n",
       "      <th>1</th>\n",
       "      <td>0</td>\n",
       "      <td>0</td>\n",
       "      <td>0</td>\n",
       "      <td>2709</td>\n",
       "      <td>0</td>\n",
       "      <td>0</td>\n",
       "      <td>0</td>\n",
       "    </tr>\n",
       "    <tr>\n",
       "      <th>2</th>\n",
       "      <td>162</td>\n",
       "      <td>1131</td>\n",
       "      <td>0</td>\n",
       "      <td>0</td>\n",
       "      <td>0</td>\n",
       "      <td>0</td>\n",
       "      <td>0</td>\n",
       "    </tr>\n",
       "    <tr>\n",
       "      <th>3</th>\n",
       "      <td>0</td>\n",
       "      <td>0</td>\n",
       "      <td>497</td>\n",
       "      <td>0</td>\n",
       "      <td>0</td>\n",
       "      <td>0</td>\n",
       "      <td>0</td>\n",
       "    </tr>\n",
       "    <tr>\n",
       "      <th>4</th>\n",
       "      <td>0</td>\n",
       "      <td>0</td>\n",
       "      <td>0</td>\n",
       "      <td>0</td>\n",
       "      <td>1064</td>\n",
       "      <td>158</td>\n",
       "      <td>13</td>\n",
       "    </tr>\n",
       "  </tbody>\n",
       "</table>\n",
       "</div>"
      ],
      "text/plain": [
       "Item 8    1     2     3     4     5    6   7\n",
       "Labels                                      \n",
       "0         0     0  2266     0     0    0   0\n",
       "1         0     0     0  2709     0    0   0\n",
       "2       162  1131     0     0     0    0   0\n",
       "3         0     0   497     0     0    0   0\n",
       "4         0     0     0     0  1064  158  13"
      ]
     },
     "execution_count": 54,
     "metadata": {},
     "output_type": "execute_result"
    }
   ],
   "source": [
    "#Source (Transforming features for better clusterings: Python)\n",
    "#evaluating labels using the crosstab method\n",
    "ci=pd.crosstab(df2['Labels'],df2['Item 8'])\n",
    "ci"
   ]
  },
  {
   "cell_type": "code",
   "execution_count": 55,
   "id": "f7031ca7",
   "metadata": {},
   "outputs": [
    {
     "data": {
      "text/html": [
       "<div>\n",
       "<style scoped>\n",
       "    .dataframe tbody tr th:only-of-type {\n",
       "        vertical-align: middle;\n",
       "    }\n",
       "\n",
       "    .dataframe tbody tr th {\n",
       "        vertical-align: top;\n",
       "    }\n",
       "\n",
       "    .dataframe thead th {\n",
       "        text-align: right;\n",
       "    }\n",
       "</style>\n",
       "<table border=\"1\" class=\"dataframe\">\n",
       "  <thead>\n",
       "    <tr style=\"text-align: right;\">\n",
       "      <th>Techie</th>\n",
       "      <th>0</th>\n",
       "      <th>1</th>\n",
       "    </tr>\n",
       "    <tr>\n",
       "      <th>Labels</th>\n",
       "      <th></th>\n",
       "      <th></th>\n",
       "    </tr>\n",
       "  </thead>\n",
       "  <tbody>\n",
       "    <tr>\n",
       "      <th>0</th>\n",
       "      <td>2266</td>\n",
       "      <td>0</td>\n",
       "    </tr>\n",
       "    <tr>\n",
       "      <th>1</th>\n",
       "      <td>2274</td>\n",
       "      <td>435</td>\n",
       "    </tr>\n",
       "    <tr>\n",
       "      <th>2</th>\n",
       "      <td>1077</td>\n",
       "      <td>216</td>\n",
       "    </tr>\n",
       "    <tr>\n",
       "      <th>3</th>\n",
       "      <td>0</td>\n",
       "      <td>497</td>\n",
       "    </tr>\n",
       "    <tr>\n",
       "      <th>4</th>\n",
       "      <td>1020</td>\n",
       "      <td>215</td>\n",
       "    </tr>\n",
       "  </tbody>\n",
       "</table>\n",
       "</div>"
      ],
      "text/plain": [
       "Techie     0    1\n",
       "Labels           \n",
       "0       2266    0\n",
       "1       2274  435\n",
       "2       1077  216\n",
       "3          0  497\n",
       "4       1020  215"
      ]
     },
     "execution_count": 55,
     "metadata": {},
     "output_type": "execute_result"
    }
   ],
   "source": [
    "#Source (Transforming features for better clusterings: Python)\n",
    "#evaluating labels using the crosstab method\n",
    "ct=pd.crosstab(df2['Labels'],df2['Techie'])\n",
    "ct"
   ]
  },
  {
   "cell_type": "code",
   "execution_count": 56,
   "id": "45fabddb",
   "metadata": {},
   "outputs": [
    {
     "data": {
      "text/plain": [
       "0.337625"
      ]
     },
     "execution_count": 56,
     "metadata": {},
     "output_type": "execute_result"
    }
   ],
   "source": [
    "#Determining accuracy of the model\n",
    "acc=accuracy_score(labels,X)\n",
    "acc"
   ]
  },
  {
   "cell_type": "code",
   "execution_count": null,
   "id": "00a0b223",
   "metadata": {},
   "outputs": [],
   "source": []
  }
 ],
 "metadata": {
  "kernelspec": {
   "display_name": "Python 3",
   "language": "python",
   "name": "python3"
  },
  "language_info": {
   "codemirror_mode": {
    "name": "ipython",
    "version": 3
   },
   "file_extension": ".py",
   "mimetype": "text/x-python",
   "name": "python",
   "nbconvert_exporter": "python",
   "pygments_lexer": "ipython3",
   "version": "3.8.8"
  }
 },
 "nbformat": 4,
 "nbformat_minor": 5
}
