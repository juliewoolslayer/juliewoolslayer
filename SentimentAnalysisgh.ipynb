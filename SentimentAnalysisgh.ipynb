{
 "cells": [
  {
   "cell_type": "code",
   "execution_count": 1,
   "id": "2a28503e",
   "metadata": {
    "scrolled": false
   },
   "outputs": [
    {
     "data": {
      "text/plain": [
       "(50000, 9)"
      ]
     },
     "execution_count": 1,
     "metadata": {},
     "output_type": "execute_result"
    }
   ],
   "source": [
    "#Import Libraries, read file, add column names and drop all but the review column\n",
    "#I reduced the dataset from 157836 tuples to 50000 due to processing constraints\n",
    "import matplotlib.pyplot as plt\n",
    "import numpy as np\n",
    "import pandas as pd \n",
    "from sklearn.feature_extraction.text import CountVectorizer\n",
    "from keras.preprocessing.text import Tokenizer\n",
    "from keras.preprocessing.sequence import pad_sequences\n",
    "from keras.models import Sequential\n",
    "from keras.layers import Dense, Embedding, LSTM, SpatialDropout1D\n",
    "from sklearn.model_selection import train_test_split\n",
    "from keras.utils.np_utils import to_categorical\n",
    "from wordcloud import WordCloud, STOPWORDS\n",
    "import re\n",
    "import nltk\n",
    "from nltk.corpus import wordnet\n",
    "from nltk.stem import WordNetLemmatizer\n",
    "#nltk.download('averaged_perceptron_tagger')\n",
    "#nltk.download('wordnet')\n",
    "plt.style.use ('fivethirtyeight')\n",
    "import json\n",
    "import gzip\n",
    "\n",
    "def parse(path):\n",
    "  g = gzip.open(path, 'rb')\n",
    "  for l in g:\n",
    "    yield eval(l)\n",
    "\n",
    "def getDF(path):\n",
    "  i = 0\n",
    "  df = {}\n",
    "  for d in parse(path):\n",
    "    df[i] = d\n",
    "    i += 1\n",
    "  return pd.DataFrame.from_dict(df, orient='index')\n",
    "\n",
    "data = getDF(r'C:\\Users\\julie\\Desktop\\d213\\reviews_Pet_Supplies_5.json.gz')  \n",
    "data.drop(data.tail(107836).index,inplace = True)\n",
    "data.shape"
   ]
  },
  {
   "cell_type": "code",
   "execution_count": 2,
   "id": "dc480261",
   "metadata": {},
   "outputs": [],
   "source": [
    "#preprocesssing by changing text to lower case and removing punctuation \n",
    "#Source (Ngyptr, LSTM Sentiment Analysis: Keras 2018)\n",
    "data['summary'] = data['summary'].apply(lambda x: x.lower())\n",
    "data['summary'] = data['summary'].apply((lambda x: re.sub('[^a-zA-z0-9\\s]','',x)))\n",
    "for idx,row in data.iterrows():\n",
    "    row[0] = row[0].replace('rt',' ')"
   ]
  },
  {
   "cell_type": "code",
   "execution_count": 3,
   "id": "b9e8f8de",
   "metadata": {},
   "outputs": [],
   "source": [
    "#Remove stopwords because they do not contribute to the sentiment\n",
    "#Source (Ngyptr, LSTM Sentiment Analysis: Keras 2018)\n",
    "from nltk.corpus import stopwords\n",
    "STOPWORDS = set(stopwords.words('english'))\n",
    "def remove_stopwords(data):\n",
    "    return \" \".join([word for word in str(data).split() if word not in STOPWORDS])\n",
    "data['nostoptext'] = data['summary'].apply(lambda data: remove_stopwords(data))"
   ]
  },
  {
   "cell_type": "code",
   "execution_count": 4,
   "id": "a7c787b4",
   "metadata": {},
   "outputs": [],
   "source": [
    "#preprocessing - apply lemmatizer to reduce words to their root so they can be grouped\n",
    "#Source (Ngyptr, LSTM Sentiment Analysis: Keras 2018)\n",
    "lemmatizer = WordNetLemmatizer()\n",
    "wordnet_map = {\"N\":wordnet.NOUN, \"V\":wordnet.VERB, \"J\":wordnet.ADJ, \"R\":wordnet.ADV}\n",
    "def lemmatize_words(data):\n",
    "    pos_tagged_data = nltk.pos_tag(data.split())\n",
    "    return \" \".join([lemmatizer.lemmatize(word, wordnet_map.get(pos[0], wordnet.NOUN)) for word, pos in pos_tagged_data])\n",
    "data['lemmatext'] = data['nostoptext'].apply(lambda data: lemmatize_words(data))\n",
    "#data.head()"
   ]
  },
  {
   "cell_type": "code",
   "execution_count": 5,
   "id": "e766b3e6",
   "metadata": {},
   "outputs": [
    {
     "data": {
      "text/plain": [
       "126"
      ]
     },
     "execution_count": 5,
     "metadata": {},
     "output_type": "execute_result"
    }
   ],
   "source": [
    "#Find the maximum number of characters in a review\n",
    "#Source (Ngyptr, LSTM Sentiment Analysis: Keras 2018)\n",
    "data['summary']=data['summary'].apply(len)\n",
    "column = data['summary']\n",
    "max_value = column.max()\n",
    "max_value"
   ]
  },
  {
   "cell_type": "code",
   "execution_count": 6,
   "id": "8f5d4c2d",
   "metadata": {},
   "outputs": [
    {
     "data": {
      "text/plain": [
       "31719"
      ]
     },
     "execution_count": 6,
     "metadata": {},
     "output_type": "execute_result"
    }
   ],
   "source": [
    "#finding unique number of words\n",
    "#Source (Ngyptr, LSTM Sentiment Analysis: Keras 2018)\n",
    "text=data['lemmatext']\n",
    "unique = []\n",
    "for word in text:\n",
    "    if word not in unique:\n",
    "        unique.append(word)\n",
    "len(unique)"
   ]
  },
  {
   "cell_type": "code",
   "execution_count": 7,
   "id": "bcf44810",
   "metadata": {},
   "outputs": [
    {
     "data": {
      "text/plain": [
       "array([[  15, 1602,    4, ...,    0,    0,    0],\n",
       "       [ 344,    4,    0, ...,    0,    0,    0],\n",
       "       [ 344,    0,    0, ...,    0,    0,    0],\n",
       "       ...,\n",
       "       [ 375,    0,    0, ...,    0,    0,    0],\n",
       "       [   6,    0,    0, ...,    0,    0,    0],\n",
       "       [2531,   60, 1884, ...,    0,    0,    0]])"
      ]
     },
     "execution_count": 7,
     "metadata": {},
     "output_type": "execute_result"
    }
   ],
   "source": [
    "#split the data into words, change to values and pad so they are the same length\n",
    "#Source (Ngyptr, LSTM Sentiment Analysis: Keras 2018)\n",
    "tokenizer_obj=Tokenizer()\n",
    "tokenizer_obj.fit_on_texts(text)\n",
    "sequences=tokenizer_obj.texts_to_sequences(text)\n",
    "pad=pad_sequences(sequences,maxlen=128,truncating='post',padding='post')\n",
    "pad"
   ]
  },
  {
   "cell_type": "code",
   "execution_count": 8,
   "id": "756ff9b7",
   "metadata": {},
   "outputs": [
    {
     "data": {
      "text/plain": [
       "(50000, 128)"
      ]
     },
     "execution_count": 8,
     "metadata": {},
     "output_type": "execute_result"
    }
   ],
   "source": [
    "#Pad the data so that X and Y are the same width\n",
    "Y=data[['overall']]\n",
    "Y = str(Y)\n",
    "Y.rjust(128, '0')\n",
    "Y= np.asarray(pad).astype(np.float32)\n",
    "Y.shape "
   ]
  },
  {
   "cell_type": "code",
   "execution_count": 9,
   "id": "59160ffe",
   "metadata": {},
   "outputs": [
    {
     "name": "stdout",
     "output_type": "stream",
     "text": [
      "(30000, 128) (30000, 128)\n",
      "(20000, 128) (20000, 128)\n"
     ]
    }
   ],
   "source": [
    "#split the data into training and testing\n",
    "#Source (Twitter Sentiment Analysis Using Python 2020)\n",
    "X_train, X_test, Y_train, Y_test = train_test_split(pad,Y, test_size = 0.4, random_state = 42)\n",
    "print(X_train.shape,Y_train.shape)\n",
    "print(X_test.shape,Y_test.shape)"
   ]
  },
  {
   "cell_type": "code",
   "execution_count": 10,
   "id": "a1e15e29",
   "metadata": {},
   "outputs": [
    {
     "name": "stdout",
     "output_type": "stream",
     "text": [
      "Model: \"sequential\"\n",
      "_________________________________________________________________\n",
      "Layer (type)                 Output Shape              Param #   \n",
      "=================================================================\n",
      "embedding (Embedding)        (None, 128, 32)           2048000   \n",
      "_________________________________________________________________\n",
      "spatial_dropout1d (SpatialDr (None, 128, 32)           0         \n",
      "_________________________________________________________________\n",
      "lstm (LSTM)                  (None, 128)               82432     \n",
      "_________________________________________________________________\n",
      "dense (Dense)                (None, 128)               16512     \n",
      "=================================================================\n",
      "Total params: 2,146,944\n",
      "Trainable params: 2,146,944\n",
      "Non-trainable params: 0\n",
      "_________________________________________________________________\n",
      "None\n"
     ]
    }
   ],
   "source": [
    "#create the model\n",
    "#Source (Ngyptr, LSTM Sentiment Analysis: Keras 2018)\n",
    "model = Sequential()\n",
    "model.add(Embedding(64000, 32,input_length=128))\n",
    "model.add(SpatialDropout1D(0.4))\n",
    "model.add(LSTM(128, dropout=0.2, recurrent_dropout=0.2))\n",
    "model.add(Dense(128,activation='softmax'))\n",
    "model.compile(loss = 'categorical_crossentropy', optimizer='adam',metrics = ['accuracy'])\n",
    "print(model.summary())"
   ]
  },
  {
   "cell_type": "code",
   "execution_count": 20,
   "id": "c587ad37",
   "metadata": {},
   "outputs": [],
   "source": [
    "#fit the model\n",
    "#Source (Twitter Sentiment Analysis Using Python 2020)\n",
    "from keras.callbacks import EarlyStopping, ModelCheckpoint\n",
    "#callbacks = ModelCheckpoint(monitor='val_loss', verbose=1, save_best_only=True,mode='min')\n",
    "#callbacks = ModelCheckpoint('../best_weight_glove_bi_100d.hdf5', monitor='val_acc', verbose=0, save_best_only=True, save_weights_only=False, mode='auto', period=1)\n",
    "#callbacks = [ ReduceLROnPlateau(monitor='val_loss', patience=5, cooldown=0), EarlyStopping(monitor='val_acc', min_delta=1e-4, patience=5)]\n",
    "#callback=EarlyStopping(monitor='loss', mode='min', verbose=1)\n",
    "history=model.fit(X_train, Y_train, validation_data=(X_test,Y_test), epochs=8, verbose=0, callbacks=[ReduceLROnPlateau(monitor='val_loss', factor=.25, patience=2, cooldown=0)]\n",
    ")"
   ]
  },
  {
   "cell_type": "code",
   "execution_count": 21,
   "id": "2db65a90",
   "metadata": {},
   "outputs": [
    {
     "name": "stdout",
     "output_type": "stream",
     "text": [
      "938/938 - 30s - loss: 135134.0625 - accuracy: 0.3316\n",
      "Accuracy: 33.160001\n"
     ]
    }
   ],
   "source": [
    "#Evaluate metrics to determine quality of the model\n",
    "#Source (Ngyptr, LSTM Sentiment Analysis: Keras 2018)\n",
    "loss, accuracy = model.evaluate(X_train,Y_train, verbose=2)\n",
    "print('Accuracy: %f' % (accuracy*100))"
   ]
  },
  {
   "cell_type": "code",
   "execution_count": 23,
   "id": "784d64e7",
   "metadata": {
    "scrolled": false
   },
   "outputs": [
    {
     "data": {
      "image/png": "[encoded data removed]",
      "text/plain": [
       "<Figure size 432x288 with 1 Axes>"
      ]
     },
     "metadata": {},
     "output_type": "display_data"
    }
   ],
   "source": [
    "#plot accuracy vs epoch and loss vs. epoch\n",
    "plt.plot(history.history['accuracy'])\n",
    "plt.plot(history.history['val_accuracy'])\n",
    "plt.title('model accuracy')\n",
    "plt.ylabel('accuracy')\n",
    "plt.xlabel('epoch')\n",
    "plt.legend(['X_train', 'X_test'], loc='upper left')\n",
    "plt.show() "
   ]
  },
  {
   "cell_type": "code",
   "execution_count": 24,
   "id": "25cc517d",
   "metadata": {},
   "outputs": [
    {
     "data": {
      "image/png": "[encoded data removed]",
      "text/plain": [
       "<Figure size 432x288 with 1 Axes>"
      ]
     },
     "metadata": {},
     "output_type": "display_data"
    }
   ],
   "source": [
    "plt.plot(history.history['loss'])\n",
    "plt.plot(history.history['val_loss'])\n",
    "plt.title('model loss')\n",
    "plt.ylabel('loss')\n",
    "plt.xlabel('epoch')\n",
    "plt.legend(['X_train', 'X_test'], loc='upper left')\n",
    "plt.show()"
   ]
  },
  {
   "cell_type": "code",
   "execution_count": null,
   "id": "ce3a616e",
   "metadata": {},
   "outputs": [],
   "source": []
  },
  {
   "cell_type": "code",
   "execution_count": 74,
   "id": "7f55a0ba",
   "metadata": {},
   "outputs": [],
   "source": [
    "data.to_csv('D213Task2Pet.csv')"
   ]
  },
  {
   "cell_type": "code",
   "execution_count": null,
   "id": "0480f2ee",
   "metadata": {},
   "outputs": [],
   "source": []
  }
 ],
 "metadata": {
  "kernelspec": {
   "display_name": "Python 3",
   "language": "python",
   "name": "python3"
  },
  "language_info": {
   "codemirror_mode": {
    "name": "ipython",
    "version": 3
   },
   "file_extension": ".py",
   "mimetype": "text/x-python",
   "name": "python",
   "nbconvert_exporter": "python",
   "pygments_lexer": "ipython3",
   "version": "3.8.8"
  }
 },
 "nbformat": 4,
 "nbformat_minor": 5
}
